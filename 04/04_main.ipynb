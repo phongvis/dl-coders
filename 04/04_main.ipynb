{
 "cells": [
  {
   "cell_type": "markdown",
   "metadata": {},
   "source": [
    "# Chapter 4. Under the Hood: Training a Digit Classifier"
   ]
  },
  {
   "cell_type": "code",
   "execution_count": 1,
   "metadata": {},
   "outputs": [],
   "source": [
    "from fastai.vision.all import *\n",
    "\n",
    "matplotlib.rc('image', cmap='Greys')"
   ]
  },
  {
   "cell_type": "code",
   "execution_count": 2,
   "metadata": {},
   "outputs": [],
   "source": [
    "from torch.utils.data import TensorDataset"
   ]
  },
  {
   "cell_type": "markdown",
   "metadata": {},
   "source": [
    "## 1. Baseline binary digit classifier 3 vs. 7\n",
    "*Practicing PyTorch and build a simple classifier based on similarity with two typical digits.*"
   ]
  },
  {
   "cell_type": "code",
   "execution_count": 3,
   "metadata": {},
   "outputs": [
    {
     "data": {
      "text/plain": [
       "(#3) [Path('valid'),Path('labels.csv'),Path('train')]"
      ]
     },
     "execution_count": 3,
     "metadata": {},
     "output_type": "execute_result"
    }
   ],
   "source": [
    "path = untar_data(URLs.MNIST_SAMPLE)\n",
    "Path.BASE_PATH = path\n",
    "path.ls()"
   ]
  },
  {
   "cell_type": "code",
   "execution_count": 4,
   "metadata": {},
   "outputs": [],
   "source": [
    "def load_digit(set, d):\n",
    "    files = (path/set/d).ls()\n",
    "    display(Image.open(files[0]))\n",
    "    tensors = [tensor(Image.open(f)) for f in files]\n",
    "    return torch.stack(tensors).float() / 255"
   ]
  },
  {
   "cell_type": "code",
   "execution_count": 5,
   "metadata": {},
   "outputs": [
    {
     "data": {
      "image/png": "[encoded data removed]",
      "text/plain": [
       "<PIL.PngImagePlugin.PngImageFile image mode=L size=28x28 at 0x12B3529D0>"
      ]
     },
     "metadata": {},
     "output_type": "display_data"
    },
    {
     "data": {
      "image/png": "[encoded data removed]",
      "text/plain": [
       "<PIL.PngImagePlugin.PngImageFile image mode=L size=28x28 at 0x12B644040>"
      ]
     },
     "metadata": {},
     "output_type": "display_data"
    },
    {
     "data": {
      "text/plain": [
       "(torch.Size([6131, 28, 28]), torch.Size([6265, 28, 28]))"
      ]
     },
     "execution_count": 5,
     "metadata": {},
     "output_type": "execute_result"
    }
   ],
   "source": [
    "tensors3 = load_digit('train', '3')\n",
    "tensors7 = load_digit('train', '7')\n",
    "tensors3.shape, tensors7.shape"
   ]
  },
  {
   "cell_type": "code",
   "execution_count": 6,
   "metadata": {},
   "outputs": [
    {
     "data": {
      "text/plain": [
       "<AxesSubplot:>"
      ]
     },
     "execution_count": 6,
     "metadata": {},
     "output_type": "execute_result"
    },
    {
     "data": {
      "image/png": "[encoded data removed]",
      "text/plain": [
       "<Figure size 72x72 with 1 Axes>"
      ]
     },
     "metadata": {
      "needs_background": "light"
     },
     "output_type": "display_data"
    },
    {
     "data": {
      "image/png": "[encoded data removed]",
      "text/plain": [
       "<Figure size 72x72 with 1 Axes>"
      ]
     },
     "metadata": {
      "needs_background": "light"
     },
     "output_type": "display_data"
    }
   ],
   "source": [
    "mean3 = tensors3.mean(0)\n",
    "mean7 = tensors7.mean(0)\n",
    "show_image(mean3)\n",
    "show_image(mean7)"
   ]
  },
  {
   "cell_type": "code",
   "execution_count": 7,
   "metadata": {},
   "outputs": [],
   "source": [
    "def dist(a, b):\n",
    "    # a, b can have different ranks, broadcasting\n",
    "    return (a - b).abs().mean((-1, -2))\n",
    "\n",
    "def is3(x):\n",
    "    return dist(x, mean3) < dist(x, mean7)"
   ]
  },
  {
   "cell_type": "code",
   "execution_count": 8,
   "metadata": {},
   "outputs": [
    {
     "data": {
      "text/plain": [
       "(tensor(True), tensor(False))"
      ]
     },
     "execution_count": 8,
     "metadata": {},
     "output_type": "execute_result"
    }
   ],
   "source": [
    "is3(tensors3[0]), is3(tensors7[0])"
   ]
  },
  {
   "cell_type": "markdown",
   "metadata": {},
   "source": [
    "### Compute accuracy for the validation set"
   ]
  },
  {
   "cell_type": "code",
   "execution_count": 9,
   "metadata": {},
   "outputs": [
    {
     "data": {
      "image/png": "[encoded data removed]",
      "text/plain": [
       "<PIL.PngImagePlugin.PngImageFile image mode=L size=28x28 at 0x12B6B7670>"
      ]
     },
     "metadata": {},
     "output_type": "display_data"
    },
    {
     "data": {
      "image/png": "[encoded data removed]",
      "text/plain": [
       "<PIL.PngImagePlugin.PngImageFile image mode=L size=28x28 at 0x12B6C9B50>"
      ]
     },
     "metadata": {},
     "output_type": "display_data"
    },
    {
     "data": {
      "text/plain": [
       "(torch.Size([1010, 28, 28]), torch.Size([1028, 28, 28]))"
      ]
     },
     "execution_count": 9,
     "metadata": {},
     "output_type": "execute_result"
    }
   ],
   "source": [
    "valid_tensors3 = load_digit('valid', '3')\n",
    "valid_tensors7 = load_digit('valid', '7')\n",
    "valid_tensors3.shape, valid_tensors7.shape"
   ]
  },
  {
   "cell_type": "code",
   "execution_count": 10,
   "metadata": {},
   "outputs": [
    {
     "data": {
      "text/plain": [
       "(tensor(0.9168), tensor(0.9854), tensor(0.9511))"
      ]
     },
     "execution_count": 10,
     "metadata": {},
     "output_type": "execute_result"
    }
   ],
   "source": [
    "acc3 = is3(valid_tensors3).float().mean()\n",
    "acc7 = 1 - is3(valid_tensors7).float().mean()\n",
    "acc3, acc7, (acc3 + acc7) / 2"
   ]
  },
  {
   "cell_type": "markdown",
   "metadata": {},
   "source": [
    "## 2. SGD"
   ]
  },
  {
   "cell_type": "markdown",
   "metadata": {},
   "source": [
    "### Mapping to a ML problem\n",
    "- Each position in an image contributes to the classification decision. For instance, pixels at the bottom right corners mean it's less likely that the image is a 7. We can consider each position as a **weight**.\n",
    "- The intensity of each pixel also contributes.\n",
    "- We can compute some value based on these two elements that can be used to help the classification. And we want to find the weights so that the computed values can be used to classify as accurate as possible.\n",
    "\n",
    "### Process\n",
    "1. Initialize the weights.\n",
    "1. For each image, use these weights to predict whether it appears to be a 3 or a 7.\n",
    "1. Based on these predictions, calculate how good the model is (its loss).\n",
    "1. Calculate the gradient, which measures for each weight, how changing that weight would change the loss\n",
    "1. Step (that is, change) all the weights based on that calculation.\n",
    "1. Go back to the step 2, and repeat the process.\n",
    "1. Iterate until you decide to stop the training process (for instance, because the model is good enough or you don't want to wait any longer)."
   ]
  },
  {
   "cell_type": "code",
   "execution_count": 11,
   "metadata": {},
   "outputs": [],
   "source": [
    "def create_dl(tensors3, tensors7, bs=256, shuffle=False):\n",
    "    X = torch.cat([tensors3, tensors7]).view(-1, 28*28)\n",
    "    y = tensor([1.0] * len(tensors3) + [0.0] * len(tensors7)).unsqueeze(1)\n",
    "    print(X.shape, y.shape)\n",
    "    ds = TensorDataset(X, y)\n",
    "    dl = DataLoader(ds, bs=bs, shuffle=shuffle)\n",
    "    return dl"
   ]
  },
  {
   "cell_type": "code",
   "execution_count": 12,
   "metadata": {},
   "outputs": [
    {
     "name": "stdout",
     "output_type": "stream",
     "text": [
      "torch.Size([12396, 784]) torch.Size([12396, 1])\n",
      "torch.Size([2038, 784]) torch.Size([2038, 1])\n"
     ]
    }
   ],
   "source": [
    "dl = create_dl(tensors3, tensors7, bs=256, shuffle=True)\n",
    "valid_dl = create_dl(valid_tensors3, valid_tensors7, bs=256, shuffle=False)"
   ]
  },
  {
   "cell_type": "code",
   "execution_count": 13,
   "metadata": {},
   "outputs": [],
   "source": [
    "def linear(xb):\n",
    "    return xb@weights + bias\n",
    "\n",
    "def validate_epoch(model):\n",
    "    all_preds = []\n",
    "    all_targets = []\n",
    "    for xb, yb in valid_dl:\n",
    "        all_preds.append(model(xb).sigmoid())\n",
    "        all_targets.append(yb)\n",
    "    all_preds = torch.cat(all_preds)\n",
    "    all_targets = torch.cat(all_targets)\n",
    "    return ((all_preds > 0.5) == all_targets).float().mean().item()"
   ]
  },
  {
   "cell_type": "markdown",
   "metadata": {},
   "source": [
    "### Implementing the process from scratch"
   ]
  },
  {
   "cell_type": "code",
   "execution_count": 14,
   "metadata": {},
   "outputs": [
    {
     "name": "stdout",
     "output_type": "stream",
     "text": [
      "0.964\n",
      "0.971\n",
      "0.970\n",
      "0.976\n",
      "0.976\n",
      "0.976\n",
      "0.978\n",
      "0.981\n",
      "0.979\n",
      "0.981\n"
     ]
    }
   ],
   "source": [
    "# 1. Initialize the weights\n",
    "weights = torch.randn((28 * 28, 1), requires_grad=True)\n",
    "bias = torch.randn(1, requires_grad=True)\n",
    "lr = 1\n",
    "epochs = 10\n",
    "\n",
    "for epoch in range(epochs):\n",
    "    # Train\n",
    "    for xb, yb in dl:\n",
    "        # 2. Forward pass, compute predictions\n",
    "        preds = xb@weights + bias\n",
    "        \n",
    "        # 3. Compute loss\n",
    "        preds = preds.sigmoid().clamp(1e-6, 1 - 1e-6)\n",
    "        loss = (-yb*torch.log(preds) - (1-yb)*torch.log(1-preds)).mean()\n",
    "        \n",
    "        # 4. Compute gradients\n",
    "        loss.backward()\n",
    "        \n",
    "        # 5. Update weights\n",
    "        with torch.no_grad():\n",
    "            for p in [weights, bias]:\n",
    "                p -= p.grad * lr\n",
    "                p.grad.zero_()\n",
    "\n",
    "    # Validation     \n",
    "    print(f'{validate_epoch(linear):.3f}')"
   ]
  },
  {
   "cell_type": "markdown",
   "metadata": {},
   "source": [
    "### Implementing the process with PyTorch classes"
   ]
  },
  {
   "cell_type": "markdown",
   "metadata": {},
   "source": [
    "Simplify:\n",
    "1. Use `nn.Linear` which does both weights initialization (Step 1) and linear transformation (Step 2).\n",
    "1. Use `nn.BCEWithLoss` as a loss function (Step 3)\n",
    "1. Use an optimizer `torch.optim.SGD` which handles step and zero grad (Step 4 and 5)."
   ]
  },
  {
   "cell_type": "code",
   "execution_count": 15,
   "metadata": {},
   "outputs": [
    {
     "name": "stdout",
     "output_type": "stream",
     "text": [
      "0.974\n",
      "0.979\n",
      "0.981\n",
      "0.981\n",
      "0.980\n",
      "0.982\n",
      "0.982\n",
      "0.981\n",
      "0.982\n",
      "0.981\n"
     ]
    }
   ],
   "source": [
    "# 1. Initialize the weights\n",
    "linear_model = nn.Linear(28 * 28, 1)\n",
    "optimizer = torch.optim.SGD(linear_model.parameters(), lr=1)\n",
    "epochs = 10\n",
    "\n",
    "for epoch in range(epochs):\n",
    "    # Train\n",
    "    for xb, yb in dl:\n",
    "        # 2. Forward pass, compute predictions\n",
    "        preds = linear_model(xb)\n",
    "        \n",
    "        # 3. Compute loss\n",
    "        loss = nn.BCEWithLogitsLoss()(preds, yb)\n",
    "        \n",
    "        # 4. Compute gradients\n",
    "        loss.backward()\n",
    "        \n",
    "        # 5. Update weights\n",
    "        optimizer.step()\n",
    "        optimizer.zero_grad()\n",
    "\n",
    "    # Validation     \n",
    "    print(f'{validate_epoch(linear_model):.3f}')"
   ]
  },
  {
   "cell_type": "markdown",
   "metadata": {},
   "source": [
    "### Wrapping up in a fastai learner class\n",
    "fastai provides a class to encapsulate the training process. Besides a standard model architecture, a loss function and an optimizer, it requires two extra pieces for validation:\n",
    "- a `DataLoaders` instance which simply combines train and validation standard data loaders \n",
    "- a list of metrics to compute for the validation set at the end of each epoch."
   ]
  },
  {
   "cell_type": "code",
   "execution_count": 16,
   "metadata": {},
   "outputs": [],
   "source": [
    "dls = DataLoaders(dl, valid_dl)"
   ]
  },
  {
   "cell_type": "code",
   "execution_count": 17,
   "metadata": {},
   "outputs": [],
   "source": [
    "def batch_accuracy(xb, yb):\n",
    "    preds = xb.sigmoid()\n",
    "    correct = (preds > 0.5) == yb\n",
    "    return correct.float().mean()"
   ]
  },
  {
   "cell_type": "code",
   "execution_count": 18,
   "metadata": {},
   "outputs": [
    {
     "data": {
      "text/html": [
       "<table border=\"1\" class=\"dataframe\">\n",
       "  <thead>\n",
       "    <tr style=\"text-align: left;\">\n",
       "      <th>epoch</th>\n",
       "      <th>train_loss</th>\n",
       "      <th>valid_loss</th>\n",
       "      <th>batch_accuracy</th>\n",
       "      <th>time</th>\n",
       "    </tr>\n",
       "  </thead>\n",
       "  <tbody>\n",
       "    <tr>\n",
       "      <td>0</td>\n",
       "      <td>0.078729</td>\n",
       "      <td>0.067074</td>\n",
       "      <td>0.977920</td>\n",
       "      <td>00:00</td>\n",
       "    </tr>\n",
       "    <tr>\n",
       "      <td>1</td>\n",
       "      <td>0.059303</td>\n",
       "      <td>0.061922</td>\n",
       "      <td>0.978901</td>\n",
       "      <td>00:00</td>\n",
       "    </tr>\n",
       "    <tr>\n",
       "      <td>2</td>\n",
       "      <td>0.051856</td>\n",
       "      <td>0.061686</td>\n",
       "      <td>0.979882</td>\n",
       "      <td>00:00</td>\n",
       "    </tr>\n",
       "    <tr>\n",
       "      <td>3</td>\n",
       "      <td>0.046706</td>\n",
       "      <td>0.055486</td>\n",
       "      <td>0.980373</td>\n",
       "      <td>00:00</td>\n",
       "    </tr>\n",
       "    <tr>\n",
       "      <td>4</td>\n",
       "      <td>0.043323</td>\n",
       "      <td>0.054798</td>\n",
       "      <td>0.980864</td>\n",
       "      <td>00:00</td>\n",
       "    </tr>\n",
       "    <tr>\n",
       "      <td>5</td>\n",
       "      <td>0.040702</td>\n",
       "      <td>0.054416</td>\n",
       "      <td>0.979882</td>\n",
       "      <td>00:00</td>\n",
       "    </tr>\n",
       "    <tr>\n",
       "      <td>6</td>\n",
       "      <td>0.039523</td>\n",
       "      <td>0.054839</td>\n",
       "      <td>0.981354</td>\n",
       "      <td>00:00</td>\n",
       "    </tr>\n",
       "    <tr>\n",
       "      <td>7</td>\n",
       "      <td>0.037756</td>\n",
       "      <td>0.051930</td>\n",
       "      <td>0.981845</td>\n",
       "      <td>00:00</td>\n",
       "    </tr>\n",
       "    <tr>\n",
       "      <td>8</td>\n",
       "      <td>0.036168</td>\n",
       "      <td>0.051740</td>\n",
       "      <td>0.981845</td>\n",
       "      <td>00:00</td>\n",
       "    </tr>\n",
       "    <tr>\n",
       "      <td>9</td>\n",
       "      <td>0.037250</td>\n",
       "      <td>0.059670</td>\n",
       "      <td>0.979882</td>\n",
       "      <td>00:00</td>\n",
       "    </tr>\n",
       "  </tbody>\n",
       "</table>"
      ],
      "text/plain": [
       "<IPython.core.display.HTML object>"
      ]
     },
     "metadata": {},
     "output_type": "display_data"
    }
   ],
   "source": [
    "learn = Learner(dls, nn.Linear(28*28, 1), loss_func=nn.BCEWithLogitsLoss(), opt_func=SGD, metrics=batch_accuracy)\n",
    "learn.fit(10, lr=1)"
   ]
  },
  {
   "cell_type": "markdown",
   "metadata": {},
   "source": [
    "## 3. Deep neural networks"
   ]
  },
  {
   "cell_type": "markdown",
   "metadata": {},
   "source": [
    "With the basics above, it's easy to extend the linear model to a (deep) neural network. The only change required is the forward pass in Step 2."
   ]
  },
  {
   "cell_type": "code",
   "execution_count": 19,
   "metadata": {},
   "outputs": [
    {
     "data": {
      "text/html": [
       "<table border=\"1\" class=\"dataframe\">\n",
       "  <thead>\n",
       "    <tr style=\"text-align: left;\">\n",
       "      <th>epoch</th>\n",
       "      <th>train_loss</th>\n",
       "      <th>valid_loss</th>\n",
       "      <th>batch_accuracy</th>\n",
       "      <th>time</th>\n",
       "    </tr>\n",
       "  </thead>\n",
       "  <tbody>\n",
       "    <tr>\n",
       "      <td>0</td>\n",
       "      <td>0.688396</td>\n",
       "      <td>0.680210</td>\n",
       "      <td>0.814524</td>\n",
       "      <td>00:00</td>\n",
       "    </tr>\n",
       "    <tr>\n",
       "      <td>1</td>\n",
       "      <td>0.628947</td>\n",
       "      <td>0.426033</td>\n",
       "      <td>0.965162</td>\n",
       "      <td>00:00</td>\n",
       "    </tr>\n",
       "    <tr>\n",
       "      <td>2</td>\n",
       "      <td>0.293682</td>\n",
       "      <td>0.076844</td>\n",
       "      <td>0.971050</td>\n",
       "      <td>00:00</td>\n",
       "    </tr>\n",
       "    <tr>\n",
       "      <td>3</td>\n",
       "      <td>0.141844</td>\n",
       "      <td>0.063936</td>\n",
       "      <td>0.975957</td>\n",
       "      <td>00:00</td>\n",
       "    </tr>\n",
       "    <tr>\n",
       "      <td>4</td>\n",
       "      <td>0.083077</td>\n",
       "      <td>0.054872</td>\n",
       "      <td>0.981845</td>\n",
       "      <td>00:00</td>\n",
       "    </tr>\n",
       "    <tr>\n",
       "      <td>5</td>\n",
       "      <td>0.055967</td>\n",
       "      <td>0.050906</td>\n",
       "      <td>0.983808</td>\n",
       "      <td>00:00</td>\n",
       "    </tr>\n",
       "    <tr>\n",
       "      <td>6</td>\n",
       "      <td>0.044502</td>\n",
       "      <td>0.056580</td>\n",
       "      <td>0.980864</td>\n",
       "      <td>00:00</td>\n",
       "    </tr>\n",
       "    <tr>\n",
       "      <td>7</td>\n",
       "      <td>0.038228</td>\n",
       "      <td>0.048978</td>\n",
       "      <td>0.984298</td>\n",
       "      <td>00:00</td>\n",
       "    </tr>\n",
       "    <tr>\n",
       "      <td>8</td>\n",
       "      <td>0.035326</td>\n",
       "      <td>0.049020</td>\n",
       "      <td>0.983808</td>\n",
       "      <td>00:00</td>\n",
       "    </tr>\n",
       "    <tr>\n",
       "      <td>9</td>\n",
       "      <td>0.031858</td>\n",
       "      <td>0.045506</td>\n",
       "      <td>0.985770</td>\n",
       "      <td>00:00</td>\n",
       "    </tr>\n",
       "    <tr>\n",
       "      <td>10</td>\n",
       "      <td>0.029508</td>\n",
       "      <td>0.051095</td>\n",
       "      <td>0.983317</td>\n",
       "      <td>00:00</td>\n",
       "    </tr>\n",
       "    <tr>\n",
       "      <td>11</td>\n",
       "      <td>0.028229</td>\n",
       "      <td>0.042459</td>\n",
       "      <td>0.984789</td>\n",
       "      <td>00:00</td>\n",
       "    </tr>\n",
       "    <tr>\n",
       "      <td>12</td>\n",
       "      <td>0.026293</td>\n",
       "      <td>0.037391</td>\n",
       "      <td>0.987733</td>\n",
       "      <td>00:00</td>\n",
       "    </tr>\n",
       "    <tr>\n",
       "      <td>13</td>\n",
       "      <td>0.023842</td>\n",
       "      <td>0.039471</td>\n",
       "      <td>0.987733</td>\n",
       "      <td>00:00</td>\n",
       "    </tr>\n",
       "    <tr>\n",
       "      <td>14</td>\n",
       "      <td>0.021642</td>\n",
       "      <td>0.033602</td>\n",
       "      <td>0.989205</td>\n",
       "      <td>00:00</td>\n",
       "    </tr>\n",
       "    <tr>\n",
       "      <td>15</td>\n",
       "      <td>0.019428</td>\n",
       "      <td>0.034138</td>\n",
       "      <td>0.989205</td>\n",
       "      <td>00:00</td>\n",
       "    </tr>\n",
       "    <tr>\n",
       "      <td>16</td>\n",
       "      <td>0.016845</td>\n",
       "      <td>0.030145</td>\n",
       "      <td>0.989696</td>\n",
       "      <td>00:00</td>\n",
       "    </tr>\n",
       "    <tr>\n",
       "      <td>17</td>\n",
       "      <td>0.015347</td>\n",
       "      <td>0.033482</td>\n",
       "      <td>0.990677</td>\n",
       "      <td>00:00</td>\n",
       "    </tr>\n",
       "    <tr>\n",
       "      <td>18</td>\n",
       "      <td>0.014074</td>\n",
       "      <td>0.030959</td>\n",
       "      <td>0.990186</td>\n",
       "      <td>00:00</td>\n",
       "    </tr>\n",
       "    <tr>\n",
       "      <td>19</td>\n",
       "      <td>0.013258</td>\n",
       "      <td>0.028653</td>\n",
       "      <td>0.992149</td>\n",
       "      <td>00:00</td>\n",
       "    </tr>\n",
       "  </tbody>\n",
       "</table>"
      ],
      "text/plain": [
       "<IPython.core.display.HTML object>"
      ]
     },
     "metadata": {},
     "output_type": "display_data"
    }
   ],
   "source": [
    "deep_net = nn.Sequential(\n",
    "    nn.Linear(28*28, 256),\n",
    "    nn.ReLU(),\n",
    "    nn.Linear(256, 128),\n",
    "    nn.ReLU(),\n",
    "    nn.Linear(128, 64),\n",
    "    nn.ReLU(),\n",
    "    nn.Linear(64, 32),\n",
    "    nn.ReLU(),\n",
    "    nn.Linear(32, 1)\n",
    ")\n",
    "\n",
    "learn = Learner(dls, deep_net, loss_func=nn.BCEWithLogitsLoss(), opt_func=SGD, metrics=batch_accuracy)\n",
    "learn.fit(20, lr=0.1)"
   ]
  },
  {
   "cell_type": "markdown",
   "metadata": {},
   "source": [
    "With a DNN, choosing a large learning rate is unstable. With my 4-layer DNN, setting `lr=1` sometimes gives above 99% but sometimes 50%. Setting a small `lr=0.1` and train for a larger number of epochs gives a more consistent result."
   ]
  }
 ],
 "metadata": {
  "kernelspec": {
   "display_name": "dlc",
   "language": "python",
   "name": "dlc"
  },
  "language_info": {
   "codemirror_mode": {
    "name": "ipython",
    "version": 3
   },
   "file_extension": ".py",
   "mimetype": "text/x-python",
   "name": "python",
   "nbconvert_exporter": "python",
   "pygments_lexer": "ipython3",
   "version": "3.8.0"
  }
 },
 "nbformat": 4,
 "nbformat_minor": 4
}
